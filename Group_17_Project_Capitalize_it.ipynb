{
 "cells": [
  {
   "cell_type": "markdown",
   "id": "5b55d504-6932-43c8-b42f-ea4521279450",
   "metadata": {},
   "source": [
    "# Project 4. Capitalize It."
   ]
  },
  {
   "cell_type": "markdown",
   "id": "9744f29f-3821-4bc0-bf6c-f385ce058038",
   "metadata": {},
   "source": [
    "Many people do not use capital letters correctly, especially when typing on small devices like smart phones. In this exercise, you will write a function that capitalizes the appropriate charac\n",
    "ters in a string. A lowercase “i” should be replaced with an uppercase “I” if it is both preceded and followed by a space. The first character in the string should also be capitalized, as well as the first non-space character after a “.\", “!\" or “?\". For example, if the function is provided with the string\n",
    "\n",
    " <center>**what time do i have to be there?what’s the address?**</center>\n",
    " \n",
    " then it should return the string\n",
    " \n",
    " <center> What time do I have to be there? What’s the address?</center>\n",
    " \n",
    " Include a main program that reads a string from the user, capitalizes it using your function, and\n",
    " displays the result."
   ]
  },
  {
   "cell_type": "code",
   "execution_count": 1,
   "id": "fd696565-0dd0-40e4-8f45-8e36b6129898",
   "metadata": {},
   "outputs": [
    {
     "data": {
      "text/plain": [
       "\"C:\\\\Users\\\\veron\\\\OneDrive\\\\Master's Class notes\\\\Python Assignment\\\\Group Work\""
      ]
     },
     "execution_count": 1,
     "metadata": {},
     "output_type": "execute_result"
    }
   ],
   "source": [
    "# import os\n",
    "# os. getcwd()"
   ]
  },
  {
   "cell_type": "code",
   "execution_count": 10,
   "id": "848350de-02a1-45d5-9306-03ba99cd536a",
   "metadata": {},
   "outputs": [],
   "source": [
    "# import os\n",
    "# os.chdir(\"C:/Users/veron/OneDrive/Master's Class notes/Python Assignment/Group Work\")"
   ]
  },
  {
   "cell_type": "code",
   "execution_count": 31,
   "id": "b85fb004-497b-43bf-bfc7-6829bbb36e3e",
   "metadata": {},
   "outputs": [],
   "source": [
    "file = open(\"Capitalize_it.txt\", \"w\")\n",
    "file.close()"
   ]
  },
  {
   "cell_type": "code",
   "execution_count": 33,
   "id": "e8743099-15f3-4e11-bf62-39928b9a76d2",
   "metadata": {},
   "outputs": [],
   "source": [
    "file = open(\"Capitalize_it.txt\", \"a\")\n",
    "file.write(\"a woman,without her man,is nothing. A woman : Without her,man is nothing.\\n \")\n",
    "file.close()"
   ]
  },
  {
   "cell_type": "code",
   "execution_count": 35,
   "id": "93b172c0-b064-478c-9359-4257e4cb347b",
   "metadata": {},
   "outputs": [],
   "source": [
    "file = open(\"Capitalize_it.txt\", \"a\")\n",
    "file.write(\"yesterday i went to the park it was so crowded i couldnt believe it why were so many people there i decided to leave because it was too noisy i thought it would be peaceful\\n \")\n",
    "file.close()"
   ]
  },
  {
   "cell_type": "code",
   "execution_count": 37,
   "id": "5596184e-5519-4118-a7b7-4364505ef139",
   "metadata": {},
   "outputs": [
    {
     "name": "stdout",
     "output_type": "stream",
     "text": [
      "a woman,without her man,is nothing. A woman : Without her,man is nothing.\n",
      " yesterday i went to the park it was so crowded i couldnt believe it why were so many people there i decided to leave because it was too noisy i thought it would be peaceful\n",
      " \n"
     ]
    }
   ],
   "source": [
    "file = open(\"Capitalize_it.txt\", \"r\")\n",
    "print(file.read())\n",
    "file.close()"
   ]
  },
  {
   "cell_type": "code",
   "execution_count": 79,
   "id": "f78230f1-91d6-45c5-baed-6f2ff7e987a3",
   "metadata": {},
   "outputs": [
    {
     "name": "stdout",
     "output_type": "stream",
     "text": [
      "true\n"
     ]
    }
   ],
   "source": [
    "import re\n",
    "\n",
    "with open(\"Capitalize_it.txt\", \"r\") as file:\n",
    "    content = file.read()\n",
    "    \n",
    "punctuations = re.search(r\"[,.:\\?;!]\",content)\n",
    "\n",
    "if re.search(punctuation_pattern, content):\n",
    "    print(\"true\")\n",
    "else:\n",
    "    print(\"false\")\n"
   ]
  },
  {
   "cell_type": "code",
   "execution_count": 71,
   "id": "6fcba8d6-0c2f-43ff-920b-b384ac0f38fa",
   "metadata": {},
   "outputs": [
    {
     "name": "stdout",
     "output_type": "stream",
     "text": [
      "Help on function search in module re:\n",
      "\n",
      "search(pattern, string, flags=0)\n",
      "    Scan through string looking for a match to the pattern, returning\n",
      "    a Match object, or None if no match was found.\n",
      "\n"
     ]
    }
   ],
   "source": [
    "help(re.search)"
   ]
  }
 ],
 "metadata": {
  "kernelspec": {
   "display_name": "Python 3 (ipykernel)",
   "language": "python",
   "name": "python3"
  },
  "language_info": {
   "codemirror_mode": {
    "name": "ipython",
    "version": 3
   },
   "file_extension": ".py",
   "mimetype": "text/x-python",
   "name": "python",
   "nbconvert_exporter": "python",
   "pygments_lexer": "ipython3",
   "version": "3.12.3"
  }
 },
 "nbformat": 4,
 "nbformat_minor": 5
}
